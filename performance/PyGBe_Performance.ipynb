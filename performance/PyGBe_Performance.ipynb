{
 "cells": [
  {
   "cell_type": "markdown",
   "metadata": {},
   "source": [
    "# PyGBe Performance"
   ]
  },
  {
   "cell_type": "markdown",
   "metadata": {},
   "source": [
    "Figure 1 below is a comparison of the performance of PyGBe versus APBS, which is a multi-core CPU finite-difference package for solving the Poisson-Boltzmann equation.  \n",
    "\n",
    "This figure originally appeared in Reference 1.  This is an updated version run on newer hardware.  The original simulations ran on an NVIDIA Tesla C2075, the new ones on an NVIDIA Tesla K40.  Note that the APBS results have not been re-run.  The details of the hardware used for those results are available in Reference 1.  "
   ]
  },
  {
   "cell_type": "markdown",
   "metadata": {},
   "source": [
    "<img src=\"./time_lys.png\" style=\"width: 600px;\"/> \n",
    "\n",
    "#### Figure 1. Updated version of Figure 6c from [1] run with newer hardware"
   ]
  },
  {
   "cell_type": "markdown",
   "metadata": {},
   "source": [
    "To reproduce this figure using PyGBe, run the script `run_and_plot_lysozome_case.py` located in the directory `pygbe/performance`. To be able to run the script, two packages are required:\n",
    "\n",
    "- `pip install client`\n",
    "- `conda install requests`\n",
    "\n",
    "When you run the script you will also have the option to run the tests with your own hardware. The script will prompt you to download the necessary meshes from Zenodo but requires no additional user interaction."
   ]
  },
  {
   "cell_type": "markdown",
   "metadata": {},
   "source": [
    "### References\n",
    "\n",
    "1. Cooper, C. D., Bardhan, J. P., & Barba, L. A. (2014). A biomolecular electrostatics solver using Python, GPUs and boundary elements that can handle solvent-filled cavities and Stern layers. Computer physics communications, 185(3), 720-729."
   ]
  }
 ],
 "metadata": {
  "kernelspec": {
   "display_name": "Python 3",
   "language": "python",
   "name": "python3"
  },
  "language_info": {
   "codemirror_mode": {
    "name": "ipython",
    "version": 3
   },
   "file_extension": ".py",
   "mimetype": "text/x-python",
   "name": "python",
   "nbconvert_exporter": "python",
   "pygments_lexer": "ipython3",
   "version": "3.5.3"
  }
 },
 "nbformat": 4,
 "nbformat_minor": 1
}
